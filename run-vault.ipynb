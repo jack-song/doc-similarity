{
 "cells": [
  {
   "cell_type": "code",
   "execution_count": 1,
   "metadata": {
    "tags": []
   },
   "outputs": [],
   "source": [
    "# built-in libs\n",
    "import os\n",
    "import importlib\n",
    "\n",
    "# obsidiantools requirements\n",
    "import numpy as np\n",
    "import pandas as pd\n",
    "import networkx as nx\n"
   ]
  },
  {
   "cell_type": "code",
   "execution_count": 2,
   "metadata": {
    "tags": []
   },
   "outputs": [
    {
     "output_type": "stream",
     "name": "stderr",
     "text": "[nltk_data] Downloading package punkt to /Users/jacksong/nltk_data...\n[nltk_data]   Package punkt is already up-to-date!\nLoading default GloVe word vector model: glove-wiki-gigaword-50\nModel loaded\n"
    }
   ],
   "source": [
    "# Similarities and cache embedding model\n",
    "import docsim\n",
    "import tfidf\n",
    "docsim_obj = docsim.DocSim(verbose=True)\n",
    "cached_model = docsim_obj.model"
   ]
  },
  {
   "cell_type": "code",
   "execution_count": 54,
   "metadata": {
    "tags": []
   },
   "outputs": [],
   "source": [
    "from pathlib import Path\n",
    "# Set up vault and pull documents\n",
    "VAULT_DIR = Path(\n",
    "    \"/Users/jacksong/Library/Mobile Documents/iCloud~md~obsidian/Documents/Incredex\"\n",
    ")\n",
    "import obsidiantools.api as otools  # api shorthand\n",
    "vault = otools.Vault(VAULT_DIR).connect().gather()\n",
    "\n",
    "def get_full_text(name):\n",
    "    return name + \". \" + vault.get_text(name)\n",
    "documents = {name: get_full_text(name) for name in vault.file_index.keys()}"
   ]
  },
  {
   "cell_type": "code",
   "execution_count": 55,
   "metadata": {},
   "outputs": [],
   "source": [
    "# Get updated version of docsim, use the cached model\n",
    "importlib.reload(docsim)\n",
    "docsim_obj = docsim.DocSim(model=cached_model, verbose=True)"
   ]
  },
  {
   "cell_type": "code",
   "execution_count": 56,
   "metadata": {
    "tags": []
   },
   "outputs": [
    {
     "output_type": "stream",
     "name": "stderr",
     "text": "[nltk_data] Downloading package punkt to /Users/jacksong/nltk_data...\n[nltk_data]   Package punkt is already up-to-date!\n"
    }
   ],
   "source": [
    "# Get updated version of tfidf\n",
    "importlib.reload(tfidf);"
   ]
  },
  {
   "cell_type": "code",
   "execution_count": 64,
   "metadata": {},
   "outputs": [],
   "source": [
    "from collections import Counter\n",
    "\n",
    "def intersects(lst1, lst2):\n",
    "    for value in lst1:\n",
    "        if value in lst2:\n",
    "            return True\n",
    "    return False\n",
    "\n",
    "def check_has_common_tags(first, second, vault):\n",
    "    tag1 = vault.get_tags(first)\n",
    "    tag2 = vault.get_tags(second)\n",
    "    return intersects(tag1, tag2)\n",
    "\n",
    "def check_has_link(first, second, vault):\n",
    "    backs1 = vault.get_backlinks(first)\n",
    "    backs2 = vault.get_backlinks(second)\n",
    "    if first in backs2:\n",
    "        return True\n",
    "    if second in backs1:\n",
    "        return True\n",
    "    return False\n",
    "\n",
    "def trim_string(s: str, limit: int, ellipsis='…') -> str:\n",
    "    s = s.strip()\n",
    "    if len(s) > limit:\n",
    "        return s[:limit].strip() + ellipsis\n",
    "    return s\n",
    "\n",
    "ignores = ['root']\n",
    "\n",
    "def pretty(pairs, vault):\n",
    "    occur = Counter()\n",
    "    for fir, sec, score in pairs:\n",
    "        if fir in ignores or sec in ignores:\n",
    "            continue\n",
    "        occur[fir] += 1\n",
    "        occur[sec] += 1\n",
    "        has_common = check_has_common_tags(fir, sec, vault)\n",
    "        has_link = check_has_link(fir, sec, vault)\n",
    "        link = \"@\" if has_link else \" \"\n",
    "        tag = \"#\" if has_common else \" \"\n",
    "        firstr = trim_string(fir, 30)\n",
    "        secstr = trim_string(sec, 30)\n",
    "        scostr = trim_string(str(score), 4)\n",
    "        print()\n",
    "        print(\"{:<1}{:<1}   {:<35} {:<35}   {:<10}\".format(link, tag, firstr, secstr, scostr));\n",
    "    \n",
    "    print()\n",
    "    print(occur.most_common(5))\n",
    "    \n",
    "    "
   ]
  },
  {
   "cell_type": "code",
   "execution_count": 58,
   "metadata": {
    "tags": []
   },
   "outputs": [],
   "source": [
    "# GloVe global scores\n",
    "glove_results = docsim_obj.top_pairs(documents, 30);"
   ]
  },
  {
   "cell_type": "code",
   "execution_count": 59,
   "metadata": {
    "tags": []
   },
   "outputs": [],
   "source": [
    "# TDIDF global scores\n",
    "tfidf_results = tfidf.top_pairs(documents, 30);"
   ]
  },
  {
   "cell_type": "code",
   "execution_count": 65,
   "metadata": {
    "tags": []
   },
   "outputs": [
    {
     "output_type": "stream",
     "name": "stdout",
     "text": "\n     Mango and mayo in shrimp tacos      Cooking                               0.67…     \n\n@    economic success is driven by…      innovation is iteration               0.55…     \n\n@    economic success is driven by…      hypotheses just aren't that im…       0.51…     \n\n     Incredex                            Artists to Copy                       0.49…     \n\n     Finding good working groups         How to build collaborative web…       0.49…     \n\n@    Technical Due Diligence             Due Diligence                         0.47…     \n\n     Personal Brand and Persona          Backlog of things to do               0.45…     \n\n     Stuff to 3D pPrint                  3D Print Board Games                  0.45…     \n\n@    Bird in the hand                    Focus makes everything better         0.44…     \n\n     Where meaning comes from in ev…     Finding good working groups           0.43…     \n\n     Document similarity is a multi…     Incredex                              0.43…     \n\n     Stuff to 3D pPrint                  I tried querying about creativ…       0.42…     \n\n     Where meaning comes from in ev…     How to build collaborative web…       0.41…     \n\n@    Finding good working groups         Focus makes everything better         0.41…     \n\n     Personal Brand and Persona          Incredex                              0.40…     \n\n     Bird in the hand                    Finding good working groups           0.40…     \n\n     Reading effectively                 How to build collaborative web…       0.38…     \n\n     Neighbourhood set                   Link Prediction                       0.37…     \n\n     Where do creative ideas come f…     How to build collaborative web…       0.36…     \n\n@    Cal Newport                         So Good They Can't Ignore You         0.36…     \n\n[('Finding good working groups', 4), ('How to build collaborative web apps', 4), ('Incredex', 3), ('economic success is driven by channels and innovation equally', 2), ('Personal Brand and Persona', 2)]\n"
    }
   ],
   "source": [
    "pretty(tfidf_results, vault)"
   ]
  },
  {
   "cell_type": "code",
   "execution_count": 66,
   "metadata": {
    "tags": []
   },
   "outputs": [
    {
     "output_type": "stream",
     "name": "stdout",
     "text": "\n #   Getting the most from work          Adjacent Opportunities                0.97…     \n\n     hypotheses just aren't that im…     DNS retro                             0.83…     \n\n     Purpose                             GDPR                                  0.81…     \n\n     You're not above the hype trai…     Cardiogram Premium Conversion         0.81…     \n\n     Choosing between different ema…     Finding good working groups           0.80…     \n\n     Sleep is the best investment        Meetings with Harish                  0.77…     \n\n     Subitize                            DNS retro                             0.76…     \n\n     Climate Crisis                      GDPR                                  0.75…     \n\n@    Technical Due Diligence             Due Diligence                         0.75…     \n\n     Communication and Emotional Im…     Trying Psilocybin                     0.75…     \n\n     Purpose                             Cardiogram Premium Conversion         0.75…     \n\n     I can enjoy helping others hav…     Cardiogram Premium Conversion         0.74…     \n\n     Climate Crisis                      Online monetization without ad…       0.74…     \n\n     Promote healthy living habits…      Illumivu Marketing Kickoff            0.74…     \n\n     Mango and mayo in shrimp tacos      Espresso makes bad beans taste…       0.73…     \n\n     Neighbourhood set                   Link Prediction                       0.73…     \n\n     Borderline Personality Disorde…     Illumivu Marketing Kickoff            0.73…     \n\n     Legal requirements are rarely…      DNS retro                             0.73…     \n\n     I can just ask for things and…      Trying Psilocybin                     0.72…     \n\n     Legal requirements are rarely…      Finding good working groups           0.72…     \n\n     Communication and Emotional Im…     Career                                0.72…     \n\n     Engage good opportunities           Cardiogram Premium Conversion         0.72…     \n\n     economic success is driven by…      Finding good working groups           0.72…     \n\n     economic success is driven by…      Illumivu Marketing Kickoff            0.72…     \n\n     The General Commands                3D Print Design Ideas                 0.71…     \n\n     Young people struggle with bas…     GDPR                                  0.71…     \n\n     economic success is driven by…      Personal Brand and Persona            0.71…     \n\n     Promote healthy living habits…      Ilumivu Marketing Meeting             0.71…     \n\n     Suprising notes are creative n…     Incredex                              0.71…     \n\n     Good habits come from generosi…     Illumivu Marketing Kickoff            0.71…     \n\n[('Cardiogram Premium Conversion', 4), ('Illumivu Marketing Kickoff', 4), ('DNS retro', 3), ('GDPR', 3), ('Finding good working groups', 3)]\n"
    }
   ],
   "source": [
    "pretty(glove_results, vault)"
   ]
  },
  {
   "cell_type": "code",
   "execution_count": null,
   "metadata": {},
   "outputs": [],
   "source": []
  }
 ],
 "metadata": {
  "language_info": {
   "codemirror_mode": {
    "name": "ipython",
    "version": 3
   },
   "file_extension": ".py",
   "mimetype": "text/x-python",
   "name": "python",
   "nbconvert_exporter": "python",
   "pygments_lexer": "ipython3",
   "version": "3.7.1-final"
  },
  "orig_nbformat": 2,
  "kernelspec": {
   "name": "python37164bit371pyenv0836720c2dd841f7b15e796286f315f9",
   "display_name": "Python 3.7.1 64-bit ('3.7.1': pyenv)"
  }
 },
 "nbformat": 4,
 "nbformat_minor": 2
}