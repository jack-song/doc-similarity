{
 "cells": [
  {
   "cell_type": "code",
   "execution_count": 6,
   "metadata": {
    "tags": []
   },
   "outputs": [],
   "source": [
    "# built-in libs\n",
    "import os\n",
    "import importlib\n",
    "from pathlib import Path\n",
    "\n",
    "# obsidiantools requirements\n",
    "import numpy as np\n",
    "import pandas as pd\n",
    "import networkx as nx\n"
   ]
  },
  {
   "cell_type": "code",
   "execution_count": 9,
   "metadata": {
    "tags": []
   },
   "outputs": [
    {
     "output_type": "stream",
     "name": "stdout",
     "text": "Loading default GloVe word vector model: glove-wiki-gigaword-50\nModel loaded\n"
    }
   ],
   "source": [
    "# Similarities and cache embedding model\n",
    "import docsim\n",
    "import tfidf\n",
    "docsim_obj = docsim.DocSim(verbose=True)\n",
    "cached_model = docsim_obj.model"
   ]
  },
  {
   "cell_type": "code",
   "execution_count": null,
   "metadata": {
    "tags": []
   },
   "outputs": [],
   "source": [
    "# Set up vault and pull documents\n",
    "VAULT_DIR = Path(\n",
    "    \"/Users/jacksong/Library/Mobile Documents/iCloud~md~obsidian/Documents/Incredex\"\n",
    ")\n",
    "import obsidiantools.api as otools  # api shorthand\n",
    "vault = otools.Vault(VAULT_DIR).connect().gather()\n",
    "print(f\"Connected?: {vault.is_connected}\")\n",
    "print(f\"Gathered?:  {vault.is_gathered}\")\n",
    "\n",
    "def get_full_text(name):\n",
    "    return name + \". \" + vault.get_text(name)\n",
    "documents = {name: get_full_text(name) for name in vault.file_index.keys()}"
   ]
  },
  {
   "cell_type": "code",
   "execution_count": 12,
   "metadata": {},
   "outputs": [],
   "source": [
    "# Get updated version of docsim, use the cached model\n",
    "importlib.reload(docsim)\n",
    "docsim_obj = docsim.DocSim(model=cached_model, verbose=True)"
   ]
  },
  {
   "cell_type": "code",
   "execution_count": 25,
   "metadata": {
    "tags": []
   },
   "outputs": [
    {
     "output_type": "stream",
     "name": "stderr",
     "text": "[nltk_data] Downloading package punkt to /Users/jacksong/nltk_data...\n[nltk_data]   Package punkt is already up-to-date!\n"
    }
   ],
   "source": [
    "# Get updated version of tfidf\n",
    "importlib.reload(tfidf);"
   ]
  },
  {
   "cell_type": "code",
   "execution_count": 32,
   "metadata": {
    "tags": []
   },
   "outputs": [
    {
     "output_type": "execute_result",
     "data": {
      "text/plain": "[('DD Cardiogram', 'DD SAGE', 0.88467824),\n ('Purpose', 'Ilumivu Study Plan', 0.8632244),\n ('Getting the most from work', 'Adjacent Opportunities', 0.8449071),\n ('Legal \"Requirements\"', 'Ilumivu Study Plan', 0.84011406),\n ('Using Obsidian as CMS and publishing easier and faster',\n  'Ilumivu Study Plan',\n  0.83409584),\n ('economic success is driven by channels and innovation equally',\n  'DD Cardiogram',\n  0.83324265),\n ('Getting the most from work', 'DD Cardiogram', 0.8242638),\n ('DD SAGE', 'DD mEMA', 0.8229729),\n ('Purpose', 'GDPR', 0.82103026),\n ('Subitize', 'DNS retro', 0.8192849),\n ('Financial Updates', 'Management Meetings', 0.81437564),\n ('economic success is driven by channels and innovation equally',\n  'Ilumivu Study Plan',\n  0.81249744),\n ('Legal \"Requirements\"', 'Finding good working groups', 0.8095186),\n ('Climate Crisis', 'Ilumivu Study Plan', 0.8076379),\n ('Promote healthy living habits on tiktok', 'DD Cardiogram', 0.7960252),\n ('Getting the most from work', 'DD SAGE', 0.7925313),\n ('Borderline Personality Disorder', 'blue jay', 0.78703517),\n ('Getting the most from work', 'Ilumivu Study Plan', 0.7829468),\n (\"You're not above the hype train\", 'Ilumivu Study Plan', 0.7792772),\n ('Climate Crisis', 'Management Meetings', 0.7765282)]"
     },
     "metadata": {},
     "execution_count": 32
    }
   ],
   "source": [
    "# GloVe global scores\n",
    "docsim_obj.top_pairs(documents)"
   ]
  },
  {
   "cell_type": "code",
   "execution_count": 34,
   "metadata": {
    "tags": []
   },
   "outputs": [
    {
     "output_type": "stream",
     "name": "stderr",
     "text": "[nltk_data] Downloading package punkt to /Users/jacksong/nltk_data...\n[nltk_data]   Package punkt is already up-to-date!\n"
    },
    {
     "output_type": "execute_result",
     "data": {
      "text/plain": "[('DD Cardiogram', 'DD SAGE', 0.7966351779244897),\n ('DD SAGE', 'DD mEMA', 0.7869460348547802),\n ('Mango and mayo in shrimp tacos', 'Cooking', 0.6706944486993576),\n ('DD Cardiogram', 'DD mEMA', 0.6625074022096352),\n ('Personal Brand and Persona', 'root', 0.6509838040152761),\n ('root', 'Finding good working groups', 0.6078362047704453),\n ('root', 'How to build collaborative web apps', 0.5792320535593753),\n ('economic success is driven by channels and innovation equally',\n  'innovation is iteration',\n  0.5651683871243361),\n ('economic success is driven by channels and innovation equally',\n  \"hypotheses just aren't that important\",\n  0.5178162946888051),\n ('Finding good working groups',\n  'How to build collaborative web apps',\n  0.5144275208137884),\n ('Incredex', 'Artists to Copy', 0.49720766498499613),\n ('Where meaning comes from in every day life', 'root', 0.47195967000583766),\n ('Bird in the hand', 'Focus makes everything better', 0.4623963143512677),\n ('Personal Brand and Persona', 'Backlog of things to do', 0.4610775881016847),\n ('Where meaning comes from in every day life',\n  'Finding good working groups',\n  0.45095995026216096),\n ('Stuff to 3D pPrint', '3D Print Board Games', 0.44985351003933),\n ('My Notes System', 'root', 0.444451881192767),\n ('DD SAGE', 'Management Meetings', 0.43907224319706284),\n ('Where meaning comes from in every day life',\n  'How to build collaborative web apps',\n  0.4329386712479951),\n ('Finding good working groups',\n  'Focus makes everything better',\n  0.4318084596696957)]"
     },
     "metadata": {},
     "execution_count": 34
    }
   ],
   "source": [
    "# TDIDF global scores\n",
    "# Get updated version of tfidf\n",
    "importlib.reload(tfidf);\n",
    "tfidf.top_pairs(documents)"
   ]
  },
  {
   "cell_type": "code",
   "execution_count": null,
   "metadata": {},
   "outputs": [],
   "source": []
  }
 ],
 "metadata": {
  "language_info": {
   "codemirror_mode": {
    "name": "ipython",
    "version": 3
   },
   "file_extension": ".py",
   "mimetype": "text/x-python",
   "name": "python",
   "nbconvert_exporter": "python",
   "pygments_lexer": "ipython3",
   "version": "3.7.1-final"
  },
  "orig_nbformat": 2,
  "kernelspec": {
   "name": "python37164bit371pyenv0836720c2dd841f7b15e796286f315f9",
   "display_name": "Python 3.7.1 64-bit ('3.7.1': pyenv)"
  }
 },
 "nbformat": 4,
 "nbformat_minor": 2
}