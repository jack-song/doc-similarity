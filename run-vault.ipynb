{
 "cells": [
  {
   "cell_type": "code",
   "execution_count": 1,
   "metadata": {
    "tags": []
   },
   "outputs": [],
   "source": [
    "# built-in libs\n",
    "import os\n",
    "import importlib\n",
    "\n",
    "# obsidiantools requirements\n",
    "import numpy as np\n",
    "import pandas as pd\n",
    "import networkx as nx\n"
   ]
  },
  {
   "cell_type": "code",
   "execution_count": 2,
   "metadata": {
    "tags": []
   },
   "outputs": [
    {
     "output_type": "stream",
     "name": "stderr",
     "text": "[nltk_data] Downloading package punkt to /Users/jacksong/nltk_data...\n[nltk_data]   Package punkt is already up-to-date!\nLoading default GloVe word vector model: glove-wiki-gigaword-50\nModel loaded\n"
    }
   ],
   "source": [
    "# Similarities and cache embedding model\n",
    "import docsim\n",
    "import tfidf\n",
    "import usesim\n",
    "docsim_obj = docsim.DocSim(verbose=True)\n",
    "cached_model = docsim_obj.model"
   ]
  },
  {
   "cell_type": "code",
   "execution_count": 1,
   "metadata": {
    "tags": []
   },
   "outputs": [],
   "source": [
    "from pathlib import Path\n",
    "# Set up vault and pull documents\n",
    "VAULT_DIR = Path(\n",
    "    \"/Users/jacksong/Library/Mobile Documents/iCloud~md~obsidian/Documents/Incredex\"\n",
    ")\n",
    "import obsidiantools.api as otools  # api shorthand\n",
    "vault = otools.Vault(VAULT_DIR).connect().gather()\n",
    "\n",
    "def get_full_text(name):\n",
    "    return name + \". \" + vault.get_text(name)\n",
    "documents = {name: get_full_text(name) for name in vault.file_index.keys()}"
   ]
  },
  {
   "cell_type": "code",
   "execution_count": 4,
   "metadata": {},
   "outputs": [],
   "source": [
    "# Get updated version of docsim, use the cached model\n",
    "importlib.reload(docsim)\n",
    "docsim_obj = docsim.DocSim(model=cached_model, verbose=True)"
   ]
  },
  {
   "cell_type": "code",
   "execution_count": 5,
   "metadata": {
    "tags": []
   },
   "outputs": [
    {
     "output_type": "stream",
     "name": "stderr",
     "text": "[nltk_data] Downloading package punkt to /Users/jacksong/nltk_data...\n[nltk_data]   Package punkt is already up-to-date!\n"
    }
   ],
   "source": [
    "# Get updated version of tfidf\n",
    "importlib.reload(tfidf);"
   ]
  },
  {
   "cell_type": "code",
   "execution_count": 12,
   "metadata": {
    "tags": []
   },
   "outputs": [
    {
     "output_type": "stream",
     "name": "stdout",
     "text": "WARNING:tensorflow:From /Users/jacksong/.pyenv/versions/3.7.1/lib/python3.7/site-packages/tensorflow_core/python/ops/resource_variable_ops.py:1781: calling BaseResourceVariable.__init__ (from tensorflow.python.ops.resource_variable_ops) with constraint is deprecated and will be removed in a future version.\nInstructions for updating:\nIf using Keras pass *_constraint arguments to layers.\nWARNING:tensorflow:From /Users/jacksong/.pyenv/versions/3.7.1/lib/python3.7/site-packages/tensorflow_core/python/ops/resource_variable_ops.py:1781: calling BaseResourceVariable.__init__ (from tensorflow.python.ops.resource_variable_ops) with constraint is deprecated and will be removed in a future version.\nInstructions for updating:\nIf using Keras pass *_constraint arguments to layers.\n2022-02-25 11:51:35.930144: I tensorflow/core/platform/cpu_feature_guard.cc:142] Your CPU supports instructions that this TensorFlow binary was not compiled to use: AVX2 FMA\n2022-02-25 11:51:35.947253: I tensorflow/compiler/xla/service/service.cc:168] XLA service 0x7fefaac2b860 initialized for platform Host (this does not guarantee that XLA will be used). Devices:\n2022-02-25 11:51:35.947267: I tensorflow/compiler/xla/service/service.cc:176]   StreamExecutor device (0): Host, Default Version\n"
    }
   ],
   "source": [
    "# Get updated version of usesim\n",
    "importlib.reload(usesim);"
   ]
  },
  {
   "cell_type": "code",
   "execution_count": 2,
   "metadata": {},
   "outputs": [],
   "source": [
    "from collections import Counter\n",
    "\n",
    "def intersects(lst1, lst2):\n",
    "    for value in lst1:\n",
    "        if value in lst2:\n",
    "            return True\n",
    "    return False\n",
    "\n",
    "def check_has_common_tags(first, second, vault):\n",
    "    tag1 = vault.get_tags(first)\n",
    "    tag2 = vault.get_tags(second)\n",
    "    return intersects(tag1, tag2)\n",
    "\n",
    "def check_has_link(first, second, vault):\n",
    "    backs1 = vault.get_backlinks(first)\n",
    "    backs2 = vault.get_backlinks(second)\n",
    "    if first in backs2:\n",
    "        return True\n",
    "    if second in backs1:\n",
    "        return True\n",
    "    return False\n",
    "\n",
    "def trim_string(s: str, limit: int, ellipsis='…') -> str:\n",
    "    s = s.strip()\n",
    "    if len(s) > limit:\n",
    "        return s[:limit].strip() + ellipsis\n",
    "    return s\n",
    "\n",
    "ignores = ['root']\n",
    "\n",
    "def pretty(pairs, vault):\n",
    "    occur = Counter()\n",
    "    for fir, sec, score in pairs:\n",
    "        if fir in ignores or sec in ignores:\n",
    "            continue\n",
    "        occur[fir] += 1\n",
    "        occur[sec] += 1\n",
    "        has_common = check_has_common_tags(fir, sec, vault)\n",
    "        has_link = check_has_link(fir, sec, vault)\n",
    "        link = \"@\" if has_link else \" \"\n",
    "        tag = \"#\" if has_common else \" \"\n",
    "        firstr = trim_string(fir, 30)\n",
    "        secstr = trim_string(sec, 30)\n",
    "        scostr = trim_string(str(score), 4)\n",
    "        print()\n",
    "        print(\"{:<1}{:<1}   {:<35} {:<35}   {:<10}\".format(link, tag, firstr, secstr, scostr));\n",
    "    \n",
    "    print()\n",
    "    print(occur.most_common(5))\n",
    "    \n",
    "    "
   ]
  },
  {
   "cell_type": "code",
   "execution_count": 7,
   "metadata": {
    "tags": []
   },
   "outputs": [],
   "source": [
    "# GloVe global scores\n",
    "glove_results = docsim_obj.top_pairs(documents, 30);"
   ]
  },
  {
   "cell_type": "code",
   "execution_count": 8,
   "metadata": {
    "tags": []
   },
   "outputs": [],
   "source": [
    "# TDIDF global scores\n",
    "tfidf_results = tfidf.top_pairs(documents, 30);"
   ]
  },
  {
   "cell_type": "code",
   "execution_count": 4,
   "metadata": {
    "tags": []
   },
   "outputs": [],
   "source": [
    "# USE global scores\n",
    "use_results = usesim.top_pairs(documents, 30);"
   ]
  },
  {
   "cell_type": "code",
   "execution_count": 5,
   "metadata": {
    "tags": []
   },
   "outputs": [
    {
     "output_type": "stream",
     "name": "stdout",
     "text": "\n@    Document similarity is a multi…     Incredex                              0.68…     \n\n@    economic success is driven by…      innovation is iteration               0.68…     \n\n     Illumivu Marketing Kickoff          Cardiogram Premium Conversion         0.63…     \n\n     Meetings with Harish                Illumivu Marketing Kickoff            0.63…     \n\n     Coffee                              Espresso makes bad beans taste…       0.61…     \n\n@    economic success is driven by…      hypotheses just aren't that im…       0.60…     \n\n     Espresso makes bad beans taste…     Dark roasts need lower temp wa…       0.60…     \n\n@    Bird in the hand                    Focus makes everything better         0.59…     \n\n     Short Term Monetization Planni…     Ilumivu goals by January 31           0.59…     \n\n     Working With Tom                    Meeting With Sandeep                  0.58…     \n\n     Dharma                              Kapil Gupta                           0.57…     \n\n     Illumivu Marketing Kickoff          More Ilumivu Meetings                 0.57…     \n\n     More Ilumivu Meetings               Ilumivu Engagement                    0.57…     \n\n     Anxious Ambivalent Avoidant At…     Weaknessess                           0.57…     \n\n     Have an engagement oriented mi…     Try to get something out of ev…       0.57…     \n\n     Illumivu Marketing Kickoff          Ilumivu Engagement                    0.56…     \n\n     Ilumivu goals by January 31         Marketing Agency Decision             0.56…     \n\n     Document Similarity                 Document similarity is a multi…       0.56…     \n\n     economic success is driven by…      Startups are a very narrow for…       0.55…     \n\n     New Tab page is valuable real…      Daily notes should be on paper        0.55…     \n\n@    Tiers of effective learning         More effective learning in 2 d…       0.55…     \n\n     Neighbourhood set                   Link Prediction                       0.54…     \n\n     Heat Pumps                          Heaters                               0.54…     \n\n     Alexithymia                         Weaknessess                           0.54…     \n\n     Ideas are an output from an in…     The Beginning of Infinity             0.54…     \n\n     Marketing Agency Decision           Ilumivu Engagement                    0.54…     \n\n     Short Term Monetization Planni…     Ilumivu Marketing Meeting             0.54…     \n\n     Meetings with Harish                Cardiogram Premium Conversion         0.54…     \n\n@    The Book of Why                     The Beginning of Infinity             0.54…     \n\n     Document Similarity                 Incredex                              0.54…     \n\n[('Illumivu Marketing Kickoff', 4), ('economic success is driven by channels and innovation equally', 3), ('Ilumivu Engagement', 3), ('Document similarity is a multi-stage process', 2), ('Incredex', 2)]\n"
    }
   ],
   "source": [
    "pretty(use_results, vault)"
   ]
  },
  {
   "cell_type": "code",
   "execution_count": 9,
   "metadata": {
    "tags": []
   },
   "outputs": [
    {
     "output_type": "stream",
     "name": "stdout",
     "text": "\n     Mango and mayo in shrimp tacos      Cooking                               0.67…     \n\n@    economic success is driven by…      innovation is iteration               0.55…     \n\n@    economic success is driven by…      hypotheses just aren't that im…       0.51…     \n\n     Incredex                            Artists to Copy                       0.49…     \n\n     Finding good working groups         How to build collaborative web…       0.49…     \n\n@    Technical Due Diligence             Due Diligence                         0.47…     \n\n     Personal Brand and Persona          Backlog of things to do               0.45…     \n\n     Stuff to 3D pPrint                  3D Print Board Games                  0.45…     \n\n@    Bird in the hand                    Focus makes everything better         0.44…     \n\n     Where meaning comes from in ev…     Finding good working groups           0.43…     \n\n     Document similarity is a multi…     Incredex                              0.43…     \n\n     Stuff to 3D pPrint                  I tried querying about creativ…       0.42…     \n\n     Where meaning comes from in ev…     How to build collaborative web…       0.41…     \n\n@    Finding good working groups         Focus makes everything better         0.41…     \n\n     Personal Brand and Persona          Incredex                              0.40…     \n\n     Bird in the hand                    Finding good working groups           0.40…     \n\n     Reading effectively                 How to build collaborative web…       0.38…     \n\n     Neighbourhood set                   Link Prediction                       0.37…     \n\n     Where do creative ideas come f…     How to build collaborative web…       0.36…     \n\n@    Cal Newport                         So Good They Can't Ignore You         0.36…     \n\n[('Finding good working groups', 4), ('How to build collaborative web apps', 4), ('Incredex', 3), ('economic success is driven by channels and innovation equally', 2), ('Personal Brand and Persona', 2)]\n"
    }
   ],
   "source": [
    "pretty(tfidf_results, vault)"
   ]
  },
  {
   "cell_type": "code",
   "execution_count": 10,
   "metadata": {
    "tags": []
   },
   "outputs": [
    {
     "output_type": "stream",
     "name": "stdout",
     "text": "\n #   Getting the most from work          Adjacent Opportunities                0.97…     \n\n     hypotheses just aren't that im…     DNS retro                             0.82…     \n\n     Purpose                             GDPR                                  0.82…     \n\n     You're not above the hype trai…     Cardiogram Premium Conversion         0.81…     \n\n     Choosing between different ema…     Finding good working groups           0.80…     \n\n     Sleep is the best investment        Meetings with Harish                  0.77…     \n\n     I can just ask for things and…      Ilumivu Marketing Meeting             0.76…     \n\n     Subitize                            DNS retro                             0.76…     \n\n     I can enjoy helping others hav…     Cardiogram Premium Conversion         0.76…     \n\n     Climate Crisis                      GDPR                                  0.75…     \n\n@    Technical Due Diligence             Due Diligence                         0.75…     \n\n     Purpose                             Cardiogram Premium Conversion         0.75…     \n\n     Communication and Emotional Im…     Trying Psilocybin                     0.74…     \n\n     Climate Crisis                      Online monetization without ad…       0.74…     \n\n     Promote healthy living habits…      Illumivu Marketing Kickoff            0.74…     \n\n     Legal requirements are rarely…      DNS retro                             0.73…     \n\n     Mango and mayo in shrimp tacos      Espresso makes bad beans taste…       0.73…     \n\n     Borderline Personality Disorde…     Illumivu Marketing Kickoff            0.73…     \n\n     Neighbourhood set                   Link Prediction                       0.73…     \n\n     I can just ask for things and…      Trying Psilocybin                     0.72…     \n\n     economic success is driven by…      Illumivu Marketing Kickoff            0.72…     \n\n     The General Commands                3D Print Design Ideas                 0.71…     \n\n     Engage good opportunities           Cardiogram Premium Conversion         0.71…     \n\n     Young people struggle with bas…     GDPR                                  0.71…     \n\n     Communication and Emotional Im…     Career                                0.71…     \n\n     I can enjoy helping others hav…     Kapil Gupta                           0.71…     \n\n     Promote healthy living habits…      Ilumivu Marketing Meeting             0.71…     \n\n     economic success is driven by…      Personal Brand and Persona            0.71…     \n\n     Suprising notes are creative n…     Incredex                              0.71…     \n\n     Legal requirements are rarely…      Finding good working groups           0.71…     \n\n[('Cardiogram Premium Conversion', 4), ('DNS retro', 3), ('GDPR', 3), ('Illumivu Marketing Kickoff', 3), ('Purpose', 2)]\n"
    }
   ],
   "source": [
    "pretty(glove_results, vault)"
   ]
  },
  {
   "cell_type": "code",
   "execution_count": 6,
   "metadata": {
    "tags": [
     "outputPrepend"
    ]
   },
   "outputs": [
    {
     "output_type": "stream",
     "name": "stdout",
     "text": "d on the problem, requirements, and goals. It\\'s the thing that should get talked about the most. And testing and user feedback as the gold standard for decision making. Not just stuffing information into a UI, and \"designing\" that packaging with arbitrary principles and values. ![[Pasted image 20210921150402.png]]\\n', 'Meta improvement is often a red herring': \"Meta improvement is often a red herring. https://notes.andymatuschak.org/z6GNVv6RyFDewy11ZgXzce8agWxSLwJ6Ub5Rw?stackedNotes=zUMFE66dxeweppDvgbNAb5hukXzXQu8ErVNv Tools can often just be spinning wheels unless it's really directly solving a real problem that is holding you back.\\n\", 'Cognitive Dissonance during arguments': \"Cognitive Dissonance during arguments. While arguing, it's impossible to move past certain issues. No superiority. Let them let down their guard. Give them time and space. Don't hold inconsistancies against people.\\n\", 'Just write it out': \"Just write it out. Even if it feels like squeezing toothpaste, just put some words on the page. Just do the dump and it'll work out. Consistency also helps to get into the right mindset. #habit #notetaking\\n\", 'Working Hard': 'Working Hard. The inevitable building blocks of great work. https://terrytao.wordpress.com/career-advice/work-hard/\\n', 'A proper support ticketing system is important': 'A proper support ticketing system is important. To make sure communication between engineers and support is clear and efficient. Bug tickets vs. technical support tickets may have different processes. #techlead\\n', 'Meeting With Sandeep': 'Meeting With Sandeep. Relationship with Scarab Fund being maintained.\\n\\nFront end full stack Back end infrastructure\\n\\n1 & 2, each right away infra, and second 1 & 2 by Q1\\n\\niOS is a high priority for mEMA - client iOS heavy and Mark is the only one who has iOS capability\\n\\nKyle was not through Tom the recruiter. Copis - Michelle found Kyle. Tom is a relative/uncle/cousin of David - \"in house\" basically better, but good rates. Fixed monthly rate for much lower than expected. Looking for 1/2 hour radius of Ashville is best, prefer East Coast. Hire anyone anywhere.\\n\\nNew office is ready! Kristin looking at data lines. Nearshore / contracting more of a fallback. Not worth unless you have a big enough project to throw them at. Overhead and cons overwhelm everything if you just need a few helping hands. 20-30 probably doesn\\'t need to go offshore for the team.\\n\\nActively looking to fill roles now! Spread the word and find the people.\\n', 'My habit guidance': \"My habit guidance. Accept that you are a child with a monkey brain. Do all the cheap dumb stuff you need to. Social accountability is good, except it will be totally dependent on the social part. Not good for your most important habits. Only add 1 habit at a time. Make things positive and specific, if you're getting rid of a bad habit, replace it. When CONDITION, I will HABIT. Set up every aspect of your schedule and day to maximize your chances of completing the habit successfully. Make sure you're in good health and mood leading up to the habit. Make full motivation investments to protect you when you're weak.\\n\", 'Othismos': 'Othismos. # active #Othismos\\n\\nhttps://www.notion.so/Othismos-Nought-c0482991a16d414aadd0d7bdbffebb5a\\n', 'Weaknessess': 'Weaknessess. I do have some narcissistic tendencies. Arrogant, superiority complex, and grandiose. Cold indifference and neglect. Sometimes a lack of genuine interest in other people. Being casually critical or dismissive as a pattern or reaction. Not opening up about my own hurts. Not being empathetic. Seeking validation? Tolerating frustration and disappointment? Manipulative?\\n', 'Purchase Log': 'Purchase Log. Exercise Bands - probably not worth it Fountain Pen - Fountain Pen Ink - fill up 2 leftover pens Pandemic Legacy Season 2 - try to play with family?\\n', 'Rust Gpu ML': 'Rust Gpu ML. Could be a fun project that may be the future of ML powered web apps? #bet\\n', 'Artists to Copy': 'Artists to Copy. https://www.reddit.com/user/renhernandez_art/?sort=top pascal campion Shiyoon kim <https://artbyjake.squarespace.com/collections-artbyjake-jakewilliams> jason anderson Monet Van gogh Simon Stålenhag Chris Hytha Eltian Louw Bossert jed dorsey art <https://mariazinca.com/> Aly ([https://www.reddit.com/user/teatimetomorrow/posts?sort=top&t=all](<https://www.reddit.com/user/teatimetomorrow/posts?sort=top&t=all>), [Society6.com/teatimetomorrow](<http://society6.com/teatimetomorrow>))\\n', 'build online presence': 'build online presence. Need to build up email lists, channels, and digital real estate. The key is to have valuable content. Start niche and expand in stages, using existing audiences as boostraps for every subsequent stage.\\n', 'Platforms move faster than protocols': 'Platforms move faster than protocols. Technology trends: https://moxie.org/2022/01/07/web3-first-impressions.html Decentralized protocols move slower than platforms. (open standards vs private companies) People are lazy. (Do not want to run their own servers)\\n', 'Semantic Search is being explored slowly': 'Semantic Search is being explored slowly. Google already added Hummingbird and RankBrain, potentially causing some people to believe their search results are getting worse. SEO is changing because of it. There\\'s are growing UX patterns around it, such as suggestion results to guide the search. Potential issues include [[ML Injection Attacks]], as well as the need to be able to \"switch modes\" into keyword search for power users that have specific things in mind. There are niche applications, such as translation into other languages, or even code. https://blog.acolyer.org/2018/06/26/deep-code-search/\\n', 'Immune System': 'Immune System. Frontline battles vs. protein recognition and immunity. Can take 2 weeks for a full response.\\n', 'Process improvements should be migrated lazily': \"Process improvements should be migrated lazily. The important things will comes up. The less important things will be lost naturally. That's ok. Even personal knowledge.\\n\", 'Leslie Music': 'Leslie Music. Kendrick Lamar Dman Ludacris H1gher blue tape and red tape Views JCole 2014 Forest Hills Drive The college dropout\\n', 'Manuel': \"Manuel. Really just weak understanding of technical mechanisms and protocols. Apis, keys, http requests. IP warmup and scale up period. Doesn't realize the email being verified has to actually be passed into the linked data API requests. #work\\n\", 'CRDT': 'CRDT. https://crdt.tech/ Just a relatively complex and intelligent data structure that handles and merges different versions of a data structure.\\n', \"House of Java's espresso is not good\": \"House of Java's espresso is not good. # coffee\\n\\nLacked body, feels like ratio is bit high, woody and bitter and overextracted.\\n\", 'Meat Industry Monopolies': 'Meat Industry Monopolies. Beef trust meat packers. 4 companies controlling 85% now - considered \"excessively concentrated\". By definition, 5 companies controlling more than 40% is defined as \"excessively concentrated\".\\n', 'Defending a due diligence': 'Defending a due diligence. Proactively address what the other party is trying to discover and understand. Make their job easy for them. Have answers for risks. #techlead\\n', 'Examples of Side Revenue': 'Examples of Side Revenue. Proper Research! Look at yourself or close friends and family that have problems need to be solved. Go on Facebook groups, somewhere they hang out. 3rd party validation of 80/100 strangers. Ask them if they would pay money for it. Pre-marketing SAAS is important. Content marketing on keywords.\\n\\nExamples https://youtu.be/LEjqBF3itt0 - GoAtlas\\n', 'Heaters': \"Heaters. All heaters equally efficient. (for wattage / BTU) Radiant better for focusing on the human bodies. Convection will always distribute the heat. Mini honeywell desk heaters are good for localized heating for a few hundred watts. Oil doesn't increase heating, just more consistent release of energy. Safer for long term use. Silent. Fan driven ones NEED the fan to run, or it may overheat and start a fire?\\n\", 'Investing': 'Investing. Biggest losers: GME - some kind of memes are just unwise. Donate money instead Corsair Alibaba - Didn\\'t understand or believe in this (be more careful about stuff like China) Yext - Didn\\'t understand or believe in this Boeing Walmart - Didn\\'t actually believe in this\\n\\nBiggest winners: Teledoc - pure luck. Enphase and Plug - monitor \"meme\" long shots. Look for inflated opportunities. Amazon Google AMD - solid tech names\\n', 'Linked notes are better for yourself than others': 'Linked notes are better for yourself than others. Is this actually a good way to publish content? Do people want to read this? #problem Maybe, approaching a set of linked notes as a blog is wrong. Maybe the correct interaction is something that is processed - querying the network on a topic, idea, thought, or even question. Not content to be consumed. [[I tried querying about creativity and idea generation in a few gardens]].\\n', 'Active learning every day': 'Active learning every day. Make sure you spend some time every day doing active learning. Ideally in the highest [[Tiers of effective learning]]. As if you were back in university, reviewing and engaging with notes every day. This is slightly different from [[Deep Work]]. For me, this is processing notes at night, then embedding into Obsidian in the morning. #habit\\n', 'Research needs to be spiked': 'Research needs to be spiked. Absolutely cannot take up more than 10% of time. That is enough. Space for own ideas and creativity. Easy to slip into splashing around.\\n', 'Learning to write in a linked way is different': \"Learning to write in a linked way is different. It's closer to crystallizing the pieces of your thought in a more accurate way. However, it's inherently harder to process and read. It's more about exploring. This is why [[Linked notes are better for yourself than others]].\\n\", 'Negotiating Employment with Ilumivu': 'Negotiating Employment with Ilumivu. Bay Area rates are intimidating to North Carolina and South Carolina. Relatively open minded about different operations. Everyone got what they were asking for pretty much.\\n', 'General Management Tips': 'General Management Tips. Be friendly, but not friends. Don\\'t hire pushovers. Or compromised engineering quality. Don\\'t micromanage - figure out how to inspire instead, and if not, just fire. Low performers will drag down the whole team. Be proactive, don\\'t wait. Things get worse instead of better. Pick your battles. No such thing as temporary lapse in integrity. Track happiness and careers. \"What do you need from me, what can I do for you?\" Who needs what? Mutual respect. Carrots and sticks are both extrinsic motivators.\\n\\nImprov principles, make good offers, and be good offers. Negotiate small pieces of proof and steps.\\n\\nPsychological safety to test and question things Purpose not Method imperfect tools and methods are ok MEASURE the progress and achievement Culture starts with your behavior - conscious behavior that you \"know\" is right really hard already Show don\\'t tell\\n', 'I tried querying about creativity and idea generation in a few gardens': 'I tried querying about creativity and idea generation in a few gardens. site:https://joelhooks.com/digital-garden OR site:https://garden.bianca.digital/ OR site:https://nicolevanderhoeven.com/ OR site:https://notes.andymatuschak.org/ ideas creativity\\n\\nDominated by Andy and Nicole\\'s results A bit faster than navigating and searching manually: https://numinous.productions/ttft/\\n\\nhttps://notes.nicolevanderhoeven.com/Fork+My+Brain https://notes.nicolevanderhoeven.com/Idea+Generation\\\\\\n\\nhttps://jzhao.xyz/ https://jzhao.xyz/posts/networked-thought/#:~:text=creativity https://jzhao.xyz/thoughts/tools-for-thought/\\n\\nFound some \"gems\" that didn\\'t come up: https://notes.nicolevanderhoeven.com/Video/The+Second+Brain+-+A+Life-Changing+Productivity+System https://notes.andymatuschak.org/z6GNVv6RyFDewy11ZgXzce8agWxSLwJ6Ub5Rw?stackedNotes=zUMFE66dxeweppDvgbNAb5hukXzXQu8ErVNv https://notes.andymatuschak.org/It%E2%80%99s_hard_to_hear_yourself_think Some ways to do [[Deep Work]]. Semi-duds: https://garden.bianca.digital/creativity-moc\\n\\nWhat if I could do this for people I respect and follow in general? A weighted search and feed? #bet Since [[The web has been neutered in terms of personalized discovery]]\\n', 'Daily notes should be on paper': 'Daily notes should be on paper. I look at a screen too much anyways. Most daily tasks and thoughts will be noise for the future. Need to critically think about the interesting facts that learnings that should be kept around before pushing into [[My Notes System]].\\n', 'GDPR': 'GDPR. Potentially up to 20 Million Euro fine or 4% of annual global revenue. Whichever is HIGHER. Applies to any website served to someone in EU. We are a Data Controller.\\n\\nProtects people (Data Subject). What is personal data (Email, name, IPs, device ids, etc.). What it can be used for. Cookies are generally personal data. What does consent mean. Any information relating to an identifiable person who can be identified in reference to any sort of identifier.\\n\\nOpt in rather than opt out.\\n\\nCookie permissions. Visitors much click to opt into cookies. Have a cookie policy. (What you collect and why). Link to all cookie policies being used, including dependencies. Explain the data use well in privacy policy. Must be able to contact for data deletion. Right to Erasure/to be forgotten. Must remove from Data Processors as well\\n\\nSSL must be used EVERYWHERE. Nothing unencrypted over the wire. Avoid storing lead capture. Email providers must also have GDPR policy (also linked to). No pre-ticked or bundled ticks. Payments and chat provider. ALL Data Processors. Delete the data. Layered privacy notices. Access logs like at Snap!\\n\\nData map + inventory + lifecycle. Assessments. \"Data Protection Impact Assessment\" Prove Data Protection and privacy by design and default By design: only hold and process absolutely necessary data. Proactively explain which data are required and why. Encrypt data in the case of a breach. Need explicit consent before executing. CANNOT imply consent when signing up. Need to be able to withdraw consent easily.\\n\\nSubject access request - must respond to user questions about data. 1 month to respond, 3 months for complex requests. Need to provide full export of data when requested.\\n\\nSecurity and encryption. Risk assessment, procedures, response ready for breaches. Notify users Notify National Supervisory authorities Within 72 hours Training and awareness.\\n\\nMay need Data Protection Officer depending on nature of business.\\n\\nProbably not the top concern, more important when we start touching EU more directly, good practice to be prepared for. Respect the users and don\\'t ask for trouble. Show best effort. Likely some reasonable leniency.\\n', 'Learning and Achievement': 'Learning and Achievement. The most important skills and paths are not really teachable. They are discovered and honed by every person individually. The greats themselves don\\'t know what the magic is. They can not be \"prescriptions\". \"Prescriptive hard work\" can be dangerously unproductive. Related to non-scalable pursuits as described in [[Black Swan]]? Really just labor. Versus winner take all environments. At a certain point, is this just all a way to describe variance and randomness?\\n', 'Leanplum Tracking User Events': 'Leanplum Tracking User Events.   1. How much do we cache events on the client?\\n  2. Sanity check event frequency (once per second too frequent?)\\n  3. Session events vs user ops MAU pricing vs User Op/Event Based pricing? Event based might make sense for more high interactivity apps like gaming or dating.\\n\\n\\n', 'People want what others want': \"People want what others want. Desire comes from mimicry, people don't actually have true wants. Humans are actually all the same, but want to stand out and make a claim on their identity.\\n\", 'Differential Diagnosis': \"Differential Diagnosis. Useful for making decisions - don't jump to what comes to your head right away for some decisions. How do you know which ones?\\n\", 'ML Model selection': 'ML Model selection. Need to be aware of model assumptions, strengths and weaknesses. Some of them assume that features are independent.\\n', 'How to build collaborative web apps': 'How to build collaborative web apps. https://news.ycombinator.com/item?id=28209736&utm_term=comment https://zjy.cloud/posts/collaborative-web-apps - much better than my current system. Maybe use [[CRDT]]? Essentially very rapid sync - like the kind in [[One Habit Way]] and maybe [[Incredex]].\\n', 'Flying Travel Packing': 'Flying Travel Packing. ### Bring\\n\\nBody lotion Soap Small battery pack\\n\\n### Leave\\n\\nLarge battery pack Jogging shorts? Extra jacket?\\n', 'Stoicism': \"Stoicism. Stoic meditations are an actual activity of practice to get better at being stoic.\\n\\nstrategic manipulation of mind - microdose unpleasant thoughts as preventative emotional nutrition\\n\\nimagine bad things happening\\n\\nduring an action - pretend it's the last\\n\\npretend to be someone else, whose dream life is your own current life\\n\\nprospective retrospection - curate nostalgia for the present\\n\\nstoic vaccination through physical and psychological hardship\\n\\nnarrative framing - autobiographical distance, personal story\\n\\nchallenge framing - life is a gauntlet to test your mettle\\n\\nhumor framing - incompetance and surprises are everywhere\\n\\nreflect before bed\\n\\ngame to appreciate ephermeral silver linings\\n\\nemotional and time affluence\\n\\nembrace and pursue failure - build high tolerance for it. doing what you can, with what you have, is all you can hope for\\n\", 'Robusta not neccessarily bad tasting': 'Robusta not neccessarily bad tasting. Needs higher ratio, different set of technique. Unfortunately correlated with lower quality processing.\\n', 'Maylynn': 'Maylynn. Favorite color is green. Likes flowers. Likes gestures and words of affirmation.\\n', 'Focus makes everything better': \"Focus makes everything better. Growth and learning is a componding effect. Resources are limited, and everything has an opportunity cost. Not focusing means that you'll never be close to [[Adjacent Opportunities]]. Even if you're combining a few different skills, they must be focused into a certain direction eventually. [[Bird in the hand]]\\n\", 'Ilumivu Engagement': 'Ilumivu Engagement. Needs to \"manage\" Mark? Prop up the app with effective notifications. Marketing is about long term engagement with the prospect. A journey with a lot of dates. Rule of thumb is a minimum of 7 contacts first? Engage with real world stories, emotion, joy. Standard ad based marketing is less effective. Start focusing on existing traction first?\\n', 'How societies deal with stress and toxic competition': 'How societies deal with stress and toxic competition. From the book [[Mimicry]], is the dancing plague and example?\\n', \"Simpson's Paradox results in counter intuitive results\": \"Simpson's Paradox results in counter intuitive results. Happens when a non-obvious confounding variable not accounted for. https://youtu.be/kaDvqoTtLL4 - Applied to vaccination death stats. Could this apply to minorities voting for Trump too?\\n\", 'Languages and thinking': 'Languages and thinking. Trying something like Clojure or https://tryapl.org/ really opens your eyes to what programming languages could be, and does change how you think. #techlead #insight\\n', 'Try to get something out of every meeting': 'Try to get something out of every meeting. Big learning from marketing meeting and missing out on collecting information. Be greedy. Don\\'t be shy to get what you want out of the meeting and speak your mind. Don\\'t let \"Clarifications for Leanplum Roadmap\" become an email again. Get answers fast when the opportunities present themselves.jjjjj\\n'}\n"
    }
   ],
   "source": [
    "print(documents)"
   ]
  },
  {
   "cell_type": "code",
   "execution_count": null,
   "metadata": {},
   "outputs": [],
   "source": []
  }
 ],
 "metadata": {
  "language_info": {
   "codemirror_mode": {
    "name": "ipython",
    "version": 3
   },
   "file_extension": ".py",
   "mimetype": "text/x-python",
   "name": "python",
   "nbconvert_exporter": "python",
   "pygments_lexer": "ipython3",
   "version": "3.7.1-final"
  },
  "orig_nbformat": 2,
  "kernelspec": {
   "name": "python37164bit371pyenv0836720c2dd841f7b15e796286f315f9",
   "display_name": "Python 3.7.1 64-bit ('3.7.1': pyenv)"
  }
 },
 "nbformat": 4,
 "nbformat_minor": 2
}