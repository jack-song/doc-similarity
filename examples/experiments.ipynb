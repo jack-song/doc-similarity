{
 "cells": [
  {
   "cell_type": "code",
   "execution_count": 6,
   "metadata": {
    "tags": []
   },
   "outputs": [],
   "source": [
    "# built-in libs\n",
    "import os\n",
    "import importlib\n",
    "from pathlib import Path\n",
    "\n",
    "# obsidiantools requirements\n",
    "import numpy as np\n",
    "import pandas as pd\n",
    "import networkx as nx\n"
   ]
  },
  {
   "cell_type": "code",
   "execution_count": 9,
   "metadata": {
    "tags": []
   },
   "outputs": [
    {
     "output_type": "stream",
     "name": "stdout",
     "text": "Loading default GloVe word vector model: glove-wiki-gigaword-50\nModel loaded\n"
    }
   ],
   "source": [
    "# Similarities and cache embedding model\n",
    "import docsim\n",
    "import tfidf\n",
    "docsim_obj = docsim.DocSim(verbose=True)\n",
    "cached_model = docsim_obj.model"
   ]
  },
  {
   "cell_type": "code",
   "execution_count": 35,
   "metadata": {
    "tags": []
   },
   "outputs": [
    {
     "output_type": "stream",
     "name": "stdout",
     "text": "Connected?: True\nGathered?:  True\n"
    }
   ],
   "source": [
    "# Set up vault and pull documents\n",
    "VAULT_DIR = Path(\n",
    "    \"/Users/jacksong/Library/Mobile Documents/iCloud~md~obsidian/Documents/Incredex\"\n",
    ")\n",
    "import obsidiantools.api as otools  # api shorthand\n",
    "vault = otools.Vault(VAULT_DIR).connect().gather()\n",
    "\n",
    "def get_full_text(name):\n",
    "    return name + \". \" + vault.get_text(name)\n",
    "documents = {name: get_full_text(name) for name in vault.file_index.keys()}"
   ]
  },
  {
   "cell_type": "code",
   "execution_count": 12,
   "metadata": {},
   "outputs": [],
   "source": [
    "# Get updated version of docsim, use the cached model\n",
    "importlib.reload(docsim)\n",
    "docsim_obj = docsim.DocSim(model=cached_model, verbose=True)"
   ]
  },
  {
   "cell_type": "code",
   "execution_count": 25,
   "metadata": {
    "tags": []
   },
   "outputs": [
    {
     "output_type": "stream",
     "name": "stderr",
     "text": "[nltk_data] Downloading package punkt to /Users/jacksong/nltk_data...\n[nltk_data]   Package punkt is already up-to-date!\n"
    }
   ],
   "source": [
    "# Get updated version of tfidf\n",
    "importlib.reload(tfidf);"
   ]
  },
  {
   "cell_type": "code",
   "execution_count": 36,
   "metadata": {
    "tags": []
   },
   "outputs": [
    {
     "output_type": "execute_result",
     "data": {
      "text/plain": "[('Legal \"Requirements\"', 'Ilumivu Study Plan', 0.87763447),\n ('Purpose', 'Ilumivu Study Plan', 0.858641),\n ('Getting the most from work', 'Adjacent Opportunities', 0.8435204),\n ('Using Obsidian as CMS and publishing easier and faster',\n  'Ilumivu Study Plan',\n  0.83779275),\n ('economic success is driven by channels and innovation equally',\n  'Ilumivu Study Plan',\n  0.8316022),\n ('Purpose', 'GDPR', 0.8177613),\n (\"You're not above the hype train\", 'Ilumivu Study Plan', 0.81637293),\n ('Financial Updates', 'Management Meetings', 0.81138587),\n (\"You're not above the hype train\",\n  'Cardiogram Premium Conversion',\n  0.803365),\n ('Legal \"Requirements\"', 'Finding good working groups', 0.8020648),\n ('Getting the most from work', 'Ilumivu Study Plan', 0.8000436),\n ('Climate Crisis', 'Ilumivu Study Plan', 0.78813124),\n ('Subitize', 'DNS retro', 0.7880694),\n ('Confidence', 'Ilumivu Study Plan', 0.7832951),\n ('Human Condition', 'blue jay', 0.77861637),\n ('Human Condition', 'Ilumivu Study Plan', 0.7785744),\n ('Climate Crisis', 'Management Meetings', 0.77615964),\n ('Borderline Personality Disorder', 'blue jay', 0.77612096),\n ('Setting Growth Goals', 'Management Meetings', 0.77574193),\n ('Hiring At Ilumivu', 'Ilumivu Study Plan', 0.7691797)]"
     },
     "metadata": {},
     "execution_count": 36
    }
   ],
   "source": [
    "# GloVe global scores\n",
    "docsim_obj.top_pairs(documents)"
   ]
  },
  {
   "cell_type": "code",
   "execution_count": 37,
   "metadata": {
    "tags": []
   },
   "outputs": [
    {
     "output_type": "execute_result",
     "data": {
      "text/plain": "[('Mango and mayo in shrimp tacos', 'Cooking', 0.6708133651502955),\n ('Personal Brand and Persona', 'root', 0.6504101447606332),\n ('root', 'Finding good working groups', 0.5996310551234694),\n ('root', 'How to build collaborative web apps', 0.5717579740454609),\n ('economic success is driven by channels and innovation equally',\n  'innovation is iteration',\n  0.566422333605499),\n ('economic success is driven by channels and innovation equally',\n  \"hypotheses just aren't that important\",\n  0.5176579765693002),\n ('Finding good working groups',\n  'How to build collaborative web apps',\n  0.5077289874846177),\n ('Incredex', 'Artists to Copy', 0.49678980161877984),\n ('Technical Due Diligence', 'Due Diligence', 0.47609931227355473),\n ('Where meaning comes from in every day life', 'root', 0.46527287305715953),\n ('Personal Brand and Persona', 'Backlog of things to do', 0.4579088045304961),\n ('Bird in the hand', 'Focus makes everything better', 0.45641521276603797),\n ('Stuff to 3D pPrint', '3D Print Board Games', 0.44761261777546685),\n ('Where meaning comes from in every day life',\n  'Finding good working groups',\n  0.4453513382074317),\n ('My Notes System', 'root', 0.4374486522103424),\n ('Document similarity is a multi-stage process',\n  'Incredex',\n  0.4278214971185287),\n ('Where meaning comes from in every day life',\n  'How to build collaborative web apps',\n  0.42762979914594224),\n ('Finding good working groups',\n  'Focus makes everything better',\n  0.4253242478316672),\n ('Stuff to 3D pPrint',\n  'I tried querying about creativity and idea generation in a few gardens',\n  0.42326884388578295),\n ('Bird in the hand', 'Finding good working groups', 0.413811883297675)]"
     },
     "metadata": {},
     "execution_count": 37
    }
   ],
   "source": [
    "# TDIDF global scores\n",
    "tfidf.top_pairs(documents)"
   ]
  },
  {
   "cell_type": "code",
   "execution_count": null,
   "metadata": {},
   "outputs": [],
   "source": []
  }
 ],
 "metadata": {
  "language_info": {
   "codemirror_mode": {
    "name": "ipython",
    "version": 3
   },
   "file_extension": ".py",
   "mimetype": "text/x-python",
   "name": "python",
   "nbconvert_exporter": "python",
   "pygments_lexer": "ipython3",
   "version": "3.7.1-final"
  },
  "orig_nbformat": 2,
  "kernelspec": {
   "name": "python37164bit371pyenv0836720c2dd841f7b15e796286f315f9",
   "display_name": "Python 3.7.1 64-bit ('3.7.1': pyenv)"
  }
 },
 "nbformat": 4,
 "nbformat_minor": 2
}