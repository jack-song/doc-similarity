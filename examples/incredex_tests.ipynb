{
 "cells": [
  {
   "cell_type": "markdown",
   "metadata": {},
   "source": [
    "Check test text"
   ]
  },
  {
   "cell_type": "code",
   "execution_count": null,
   "metadata": {
    "tags": []
   },
   "outputs": [],
   "source": [
    "# import json\n",
    "# with open('test_data.json') as in_file:\n",
    "#     test_data = json.load(in_file)\n",
    "# titles = [item[0] for item in test_data['data']]\n",
    "# documents = [item[1] for item in test_data['data']]\n",
    "\n",
    "# Dir containing .md files\n",
    "vault_path = '/Users/jacksong/Library/Mobile Documents/iCloud~md~obsidian/Documents/Incredex'\n",
    "periodics_path = vault_path + '/Periodics'\n",
    "md_file_paths = [] # empty list to add .md files to\n",
    "\n",
    "for file_name in os.listdir(vault_path):\n",
    "    if file_name.endswith('.md'):\n",
    "        md_file_paths.append(vault_path + '/' + file_name)\n",
    "for file_name in os.listdir(periodics_path):\n",
    "    if file_name.endswith('.md'):\n",
    "        md_file_paths.append(periodics_path + '/' + file_name)\n",
    "\n",
    "documents = []\n",
    "for path in md_file_paths:\n",
    "    with open(path) as in_file:\n",
    "        documents = documents + in_file.readlines()\n",
    "\n",
    "print(f'lines imported: {len(documents)}')\n",
    "# for idx in range(5):\n",
    "#     print(idx, \" : \\t\", documents[idx][:100])"
   ]
  },
  {
   "cell_type": "code",
   "execution_count": null,
   "metadata": {
    "tags": []
   },
   "outputs": [],
   "source": [
    "from tfidf import rank_documents\n",
    "\n",
    "search_terms = 'trade in iphone to keep demand going through the company, earn profits through the same device, and push existing owners to upgrade'\n",
    "\n",
    "document_scores = rank_documents(search_terms, documents)\n",
    "\n",
    "score_documents = [(score, document) for score, document in zip(document_scores, documents)]\n",
    "\n",
    "for score, document in (sorted(score_documents, reverse=True, key=lambda x: x[0])[:10]):\n",
    "    print(f'{score:0.3f} \\t {document}')"
   ]
  },
  {
   "cell_type": "markdown",
   "metadata": {},
   "source": [
    "The `DocSim` class wraps up functionality to prepare and compare data in a single object. It also persists the word embedding model to avoid having to reload it each time it is used. The word embedding model is loaded on initialisation, as this is quite a long-running task.\n",
    "\n",
    "`DocSim_threaded` has similar functionality, but loads the model in a separate thread. Similarity queries cannot be evaluated until the model is ready - check the status of the `model_ready` flag."
   ]
  },
  {
   "cell_type": "code",
   "execution_count": null,
   "metadata": {},
   "outputs": [],
   "source": [
    "import json\n",
    "import docsim"
   ]
  },
  {
   "cell_type": "code",
   "execution_count": null,
   "metadata": {
    "tags": []
   },
   "outputs": [],
   "source": [
    "%%time\n",
    "\n",
    "docsim_obj = docsim.DocSim(verbose=True)\n",
    "# docsim_obj = docsim.DocSim_threaded(verbose=True)"
   ]
  },
  {
   "cell_type": "code",
   "execution_count": null,
   "metadata": {
    "tags": []
   },
   "outputs": [],
   "source": [
    "print(f'Model ready: {docsim_obj.model_ready}')"
   ]
  },
  {
   "cell_type": "code",
   "execution_count": null,
   "metadata": {
    "tags": []
   },
   "outputs": [],
   "source": [
    "# Load test data\n",
    "# with open('test_data.json') as in_file:\n",
    "#     test_data = json.load(in_file)\n",
    "\n",
    "# titles = [item[0] for item in test_data['data']]\n",
    "# documents = [item[1] for item in test_data['data']]\n",
    "\n",
    "print(f'{len(documents)} documents')"
   ]
  },
  {
   "cell_type": "code",
   "execution_count": null,
   "metadata": {
    "tags": []
   },
   "outputs": [],
   "source": [
    "%%time\n",
    "# Output the similarity scores for top 15 documents\n",
    "similarities = docsim_obj.similarity_query(search_terms, documents)\n",
    "for idx, score in (sorted(enumerate(similarities), reverse=True, key=lambda x: x[1])[:15]):\n",
    "    print(f'{idx} \\t {score:0.3f} \\t {documents[idx]}')"
   ]
  },
  {
   "cell_type": "code",
   "execution_count": 6,
   "metadata": {
    "tags": []
   },
   "outputs": [
    {
     "output_type": "stream",
     "name": "stdout",
     "text": "Loading default GloVe word vector model: glove-wiki-gigaword-50\nModel loaded\nlines imported: 16144\n"
    }
   ],
   "source": [
    "\n",
    "import docsim\n",
    "docsim_obj = docsim.DocSim(verbose=True)\n",
    "\n",
    "# Dir containing .md files\n",
    "vault_path = '/Users/jacksong/Library/Mobile Documents/iCloud~md~obsidian/Documents/Incredex'\n",
    "periodics_path = vault_path + '/Periodics'\n",
    "md_file_paths = [] # empty list to add .md files to\n",
    "\n",
    "for file_name in os.listdir(vault_path):\n",
    "    if file_name.endswith('.md'):\n",
    "        md_file_paths.append(vault_path + '/' + file_name)\n",
    "for file_name in os.listdir(periodics_path):\n",
    "    if file_name.endswith('.md'):\n",
    "        md_file_paths.append(periodics_path + '/' + file_name)\n",
    "\n",
    "documents = []\n",
    "for path in md_file_paths:\n",
    "    with open(path) as in_file:\n",
    "        documents = documents + in_file.readlines()\n",
    "\n",
    "print(f'lines imported: {len(documents)}')"
   ]
  },
  {
   "cell_type": "code",
   "execution_count": 8,
   "metadata": {
    "tags": []
   },
   "outputs": [
    {
     "output_type": "stream",
     "name": "stdout",
     "text": "very dumb\nwtf is going on\n[(0, 0.6125266551511019), (1, 0.790449933094692)]\n"
    },
    {
     "output_type": "error",
     "ename": "AttributeError",
     "evalue": "'SparseTermSimilarityMatrix' object has no attribute 'shape'",
     "traceback": [
      "\u001b[0;31m---------------------------------------------------------------------------\u001b[0m",
      "\u001b[0;31mAttributeError\u001b[0m                            Traceback (most recent call last)",
      "\u001b[0;32m/var/folders/ps/k24lbqvs5q11gxbg_qhzykz40000gn/T/ipykernel_93720/3530598594.py\u001b[0m in \u001b[0;36m<module>\u001b[0;34m\u001b[0m\n\u001b[1;32m      1\u001b[0m \u001b[0mdocsim_obj\u001b[0m\u001b[0;34m.\u001b[0m\u001b[0mdumb_stuff\u001b[0m\u001b[0;34m(\u001b[0m\u001b[0;34m)\u001b[0m\u001b[0;34m\u001b[0m\u001b[0;34m\u001b[0m\u001b[0m\n\u001b[1;32m      2\u001b[0m \u001b[0;34m\u001b[0m\u001b[0m\n\u001b[0;32m----> 3\u001b[0;31m \u001b[0mresults\u001b[0m \u001b[0;34m=\u001b[0m \u001b[0mdocsim_obj\u001b[0m\u001b[0;34m.\u001b[0m\u001b[0mtop_pairs\u001b[0m\u001b[0;34m(\u001b[0m\u001b[0mdocuments\u001b[0m\u001b[0;34m)\u001b[0m\u001b[0;34m\u001b[0m\u001b[0;34m\u001b[0m\u001b[0m\n\u001b[0m\u001b[1;32m      4\u001b[0m \u001b[0;32mfor\u001b[0m \u001b[0midx1\u001b[0m\u001b[0;34m,\u001b[0m \u001b[0midx2\u001b[0m\u001b[0;34m,\u001b[0m \u001b[0mscore\u001b[0m \u001b[0;32min\u001b[0m \u001b[0mresults\u001b[0m\u001b[0;34m:\u001b[0m\u001b[0;34m\u001b[0m\u001b[0;34m\u001b[0m\u001b[0m\n\u001b[1;32m      5\u001b[0m      \u001b[0mprint\u001b[0m\u001b[0;34m(\u001b[0m\u001b[0;34mf'{score:0.3f} \\n {documents[idx1]} \\n {documents[idx2]}'\u001b[0m\u001b[0;34m)\u001b[0m\u001b[0;34m\u001b[0m\u001b[0;34m\u001b[0m\u001b[0m\n",
      "\u001b[0;32m~/per/doc-similarity/docsim.py\u001b[0m in \u001b[0;36mtop_pairs\u001b[0;34m(self, documents)\u001b[0m\n\u001b[1;32m    395\u001b[0m             \u001b[0mglobal_top_scores\u001b[0m \u001b[0;34m=\u001b[0m \u001b[0;34m[\u001b[0m\u001b[0;34m]\u001b[0m\u001b[0;34m\u001b[0m\u001b[0;34m\u001b[0m\u001b[0m\n\u001b[1;32m    396\u001b[0m             \u001b[0;32mfor\u001b[0m \u001b[0midx\u001b[0m\u001b[0;34m,\u001b[0m \u001b[0mentry_vec\u001b[0m \u001b[0;32min\u001b[0m \u001b[0menumerate\u001b[0m\u001b[0;34m(\u001b[0m\u001b[0mdoc_vecs\u001b[0m\u001b[0;34m)\u001b[0m\u001b[0;34m:\u001b[0m\u001b[0;34m\u001b[0m\u001b[0;34m\u001b[0m\u001b[0m\n\u001b[0;32m--> 397\u001b[0;31m                 \u001b[0mprint\u001b[0m\u001b[0;34m(\u001b[0m\u001b[0mentry_vec\u001b[0m\u001b[0;34m,\u001b[0m \u001b[0mflush\u001b[0m\u001b[0;34m=\u001b[0m\u001b[0;32mTrue\u001b[0m\u001b[0;34m)\u001b[0m\u001b[0;34m\u001b[0m\u001b[0;34m\u001b[0m\u001b[0m\n\u001b[0m\u001b[1;32m    398\u001b[0m \u001b[0;34m\u001b[0m\u001b[0m\n\u001b[1;32m    399\u001b[0m                 \u001b[0msimilarities\u001b[0m \u001b[0;34m=\u001b[0m \u001b[0msoft_index\u001b[0m\u001b[0;34m[\u001b[0m\u001b[0mentry_vec\u001b[0m\u001b[0;34m]\u001b[0m\u001b[0;34m\u001b[0m\u001b[0;34m\u001b[0m\u001b[0m\n",
      "\u001b[0;32m~/.pyenv/versions/3.7.1/lib/python3.7/site-packages/gensim/similarities/docsim.py\u001b[0m in \u001b[0;36m__str__\u001b[0;34m(self)\u001b[0m\n\u001b[1;32m    988\u001b[0m \u001b[0;34m\u001b[0m\u001b[0m\n\u001b[1;32m    989\u001b[0m     \u001b[0;32mdef\u001b[0m \u001b[0m__str__\u001b[0m\u001b[0;34m(\u001b[0m\u001b[0mself\u001b[0m\u001b[0;34m)\u001b[0m\u001b[0;34m:\u001b[0m\u001b[0;34m\u001b[0m\u001b[0;34m\u001b[0m\u001b[0m\n\u001b[0;32m--> 990\u001b[0;31m         \u001b[0;32mreturn\u001b[0m \u001b[0;34m\"%s<%i docs, %i features>\"\u001b[0m \u001b[0;34m%\u001b[0m \u001b[0;34m(\u001b[0m\u001b[0mself\u001b[0m\u001b[0;34m.\u001b[0m\u001b[0m__class__\u001b[0m\u001b[0;34m.\u001b[0m\u001b[0m__name__\u001b[0m\u001b[0;34m,\u001b[0m \u001b[0mlen\u001b[0m\u001b[0;34m(\u001b[0m\u001b[0mself\u001b[0m\u001b[0;34m)\u001b[0m\u001b[0;34m,\u001b[0m \u001b[0mself\u001b[0m\u001b[0;34m.\u001b[0m\u001b[0msimilarity_matrix\u001b[0m\u001b[0;34m.\u001b[0m\u001b[0mshape\u001b[0m\u001b[0;34m[\u001b[0m\u001b[0;36m0\u001b[0m\u001b[0;34m]\u001b[0m\u001b[0;34m)\u001b[0m\u001b[0;34m\u001b[0m\u001b[0;34m\u001b[0m\u001b[0m\n\u001b[0m\u001b[1;32m    991\u001b[0m \u001b[0;34m\u001b[0m\u001b[0m\n\u001b[1;32m    992\u001b[0m \u001b[0;34m\u001b[0m\u001b[0m\n",
      "\u001b[0;31mAttributeError\u001b[0m: 'SparseTermSimilarityMatrix' object has no attribute 'shape'"
     ]
    }
   ],
   "source": [
    "\n",
    "\n",
    "results = docsim_obj.top_pairs(documents)\n",
    "for idx1, idx2, score in results:\n",
    "     print(f'{score:0.3f} \\n {documents[idx1]} \\n {documents[idx2]}')"
   ]
  },
  {
   "cell_type": "code",
   "execution_count": null,
   "metadata": {},
   "outputs": [],
   "source": []
  }
 ],
 "metadata": {
  "kernelspec": {
   "display_name": "Python 3.7.1 64-bit ('3.7.1': pyenv)",
   "language": "python",
   "name": "python37164bit371pyenv0836720c2dd841f7b15e796286f315f9"
  },
  "language_info": {
   "codemirror_mode": {
    "name": "ipython",
    "version": 3
   },
   "file_extension": ".py",
   "mimetype": "text/x-python",
   "name": "python",
   "nbconvert_exporter": "python",
   "pygments_lexer": "ipython3",
   "version": "3.7.1-final"
  }
 },
 "nbformat": 4,
 "nbformat_minor": 4
}